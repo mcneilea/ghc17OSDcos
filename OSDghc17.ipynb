{
 "cells": [
  {
   "cell_type": "code",
   "execution_count": 44,
   "metadata": {
    "collapsed": true
   },
   "outputs": [],
   "source": [
    "def main():\n",
    "    data = extraction('C:\\Users\\Emily\\dev\\OSD-COS')\n",
    "    vect_data = vectorize(data)\n",
    "    createDF(data)\n",
    "    "
   ]
  },
  {
   "cell_type": "code",
   "execution_count": 45,
   "metadata": {
    "collapsed": true
   },
   "outputs": [],
   "source": [
    "def vectorize(data):    \n",
    "    count_vectorizer = CountVectorizer()\n",
    "    counts = count_vectorizer.fit_transform(data['text'].values)"
   ]
  },
  {
   "cell_type": "code",
   "execution_count": 42,
   "metadata": {},
   "outputs": [],
   "source": [
    "from sklearn.feature_extraction.text import CountVectorizer\n",
    "from pandas import DataFrame\n",
    "import numpy\n",
    "import json\n",
    "\n",
    "\n",
    "def extraction(file):\n",
    "    with open(file) as data:\n",
    "        #returns array of dictionaries\n",
    "        #each dictionary is a paper\n",
    "        #each dictionary key is a field\n",
    "        classified_data = json.load(data)\n",
    "        for paper in classified_data:\n",
    "            paper.pop('abstract')\n",
    "    return classified_data"
   ]
  },
  {
   "cell_type": "code",
   "execution_count": 43,
   "metadata": {
    "collapsed": true
   },
   "outputs": [],
   "source": [
    "def createDF(data):\n",
    "    #TODO iterate over dictionaries\n",
    "    frame = DataFrame()\n",
    "    for dictionary in data:\n",
    "        #need to append each dataFrame to the last\n",
    "        frame.append(DataFrame.from_dict(dictionary, orient='title'))\n",
    "    print frame\n",
    "\n",
    "    "
   ]
  },
  {
   "cell_type": "code",
   "execution_count": null,
   "metadata": {
    "collapsed": true
   },
   "outputs": [],
   "source": []
  }
 ],
 "metadata": {
  "kernelspec": {
   "display_name": "Python 2",
   "language": "python",
   "name": "python2"
  },
  "language_info": {
   "codemirror_mode": {
    "name": "ipython",
    "version": 2
   },
   "file_extension": ".py",
   "mimetype": "text/x-python",
   "name": "python",
   "nbconvert_exporter": "python",
   "pygments_lexer": "ipython2",
   "version": "2.7.13"
  }
 },
 "nbformat": 4,
 "nbformat_minor": 2
}
